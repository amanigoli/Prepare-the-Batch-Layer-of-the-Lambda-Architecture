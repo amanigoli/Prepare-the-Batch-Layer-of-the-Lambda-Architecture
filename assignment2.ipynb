{
 "cells": [
  {
   "cell_type": "code",
   "execution_count": 2,
   "metadata": {},
   "outputs": [],
   "source": [
    "vehicle_counter_DF = spark.read.csv('/home/amani/per-vehicle-records-2019-10-31.csv',inferSchema = True, header = True)\n",
    "vehicle_counter_DF.registerTempTable(\"vehicle_counter\")"
   ]
  },
  {
   "cell_type": "code",
   "execution_count": 5,
   "metadata": {},
   "outputs": [],
   "source": [
    "vehicle_counter_DF.registerTempTable(\"vehicle_counter\")"
   ]
  },
  {
   "cell_type": "code",
   "execution_count": 6,
   "metadata": {
    "scrolled": false
   },
   "outputs": [
    {
     "name": "stdout",
     "output_type": "stream",
     "text": [
      "+-----+----------+\n",
      "|cosit|cositcount|\n",
      "+-----+----------+\n",
      "| 1508|     98292|\n",
      "+-----+----------+\n",
      "\n"
     ]
    }
   ],
   "source": [
    "result1=spark.sql(\"SELECT cosit ,count(cosit) as cositcount from vehicle_counter group by cosit order by count(cosit) desc limit 1\")\n",
    "result1.show()\n",
    "result1.select(\"cosit\", \"cositcount\")\\\n",
    ".write.format(\"org.apache.spark.sql.cassandra\")\\\n",
    ".options(table=\"question1\", keyspace=\"bdmassignment\")\\\n",
    ".save(mode=\"append\")\n"
   ]
  },
  {
   "cell_type": "code",
   "execution_count": 9,
   "metadata": {},
   "outputs": [],
   "source": [
    "result2=spark.sql(\"SELECT avg(gap) as avgdistance from vehicle_counter where cosit in ('1503','1504','1505','1506','1507','1012','1500','1501','1502','1508','1509','15010','15011','15012')\")\n",
    "result2.show()\n",
    "result2=spark.sql(\"SELECT avg(gap) as avgdistance from vehicle_counter where cosit in ('1503','1504','1505','1506','1507','1012','1500','1501','1502','1508','1509','15010','15011','15012')\")\n",
    "result2.select(\"avgdistance\")\\\n",
    ".write.format(\"org.apache.spark.sql.cassandra\")\\\n",
    ".options(table=\"question2\", keyspace=\"bdmassignment\")\\\n",
    ".save(mode=\"append\")"
   ]
  },
  {
   "cell_type": "code",
   "execution_count": 3,
   "metadata": {},
   "outputs": [
    {
     "name": "stdout",
     "output_type": "stream",
     "text": [
      "+-----------+----+-----+---+\n",
      "|temperature|hour|cosit|day|\n",
      "+-----------+----+-----+---+\n",
      "|       12.0|  18| 1015| 31|\n",
      "+-----------+----+-----+---+\n",
      "\n"
     ]
    }
   ],
   "source": [
    "result3=spark.sql(\"SELECT temperature, hour, cosit,day from vehicle_counter order by temperature desc limit 1\")\n",
    "result3.show()\n",
    "result3=spark.sql(\"SELECT temperature, hour, cosit , day from vehicle_counter order by temperature desc limit 1\")\n",
    "result3.select(\"temperature\", \"hour\",\"cosit\",\"day\")\\\n",
    ".write.format(\"org.apache.spark.sql.cassandra\")\\\n",
    ".options(table=\"question3\", keyspace=\"bdmassignment\")\\\n",
    ".save(mode=\"append\")"
   ]
  },
  {
   "cell_type": "code",
   "execution_count": 4,
   "metadata": {},
   "outputs": [
    {
     "name": "stdout",
     "output_type": "stream",
     "text": [
      "+------------+\n",
      "|wimsitecount|\n",
      "+------------+\n",
      "|      188176|\n",
      "+------------+\n",
      "\n"
     ]
    }
   ],
   "source": [
    "result4=spark.sql(\"SELECT  count(cosit) as wimsitecount from vehicle_counter  where weight!=0 \")\n",
    "result4.show()\n",
    "result4=spark.sql(\"SELECT  count(cosit) as wimsitecount from vehicle_counter  where weight!=0 \")\n",
    "result4.select(\"wimsitecount\")\\\n",
    ".write.format(\"org.apache.spark.sql.cassandra\")\\\n",
    ".options(table=\"question4\", keyspace=\"bdmassignment\")\\\n",
    ".save(mode=\"append\")"
   ]
  },
  {
   "cell_type": "code",
   "execution_count": 5,
   "metadata": {},
   "outputs": [
    {
     "name": "stdout",
     "output_type": "stream",
     "text": [
      "+-----------------+-----+\n",
      "|         avgspeed|cosit|\n",
      "+-----------------+-----+\n",
      "|95.00087226856925| 1507|\n",
      "+-----------------+-----+\n",
      "\n"
     ]
    }
   ],
   "source": [
    "result5=spark.sql(\"SELECT avg(speed) as avgspeed , cosit from vehicle_counter where cosit in ('1503','1504','1505','1506','1507','1012','1500','1501','1502','1508','1509','15010','15011','15012') group by cosit limit 1\")\n",
    "result5.show()"
   ]
  },
  {
   "cell_type": "code",
   "execution_count": 6,
   "metadata": {},
   "outputs": [
    {
     "name": "stdout",
     "output_type": "stream",
     "text": [
      "+-----------------+\n",
      "|         avgspeed|\n",
      "+-----------------+\n",
      "|82.66201226494377|\n",
      "+-----------------+\n",
      "\n"
     ]
    }
   ],
   "source": [
    "result5=spark.sql(\"SELECT avg(speed) as avgspeed from vehicle_counter where cosit in ('1503','1504','1505','1506','1507','1012','1500','1501','1502','1508','1509','15010','15011','15012')\")\n",
    "result5.show()"
   ]
  },
  {
   "cell_type": "code",
   "execution_count": 7,
   "metadata": {},
   "outputs": [
    {
     "name": "stdout",
     "output_type": "stream",
     "text": [
      "+------------+-----+\n",
      "|vehiclecount|class|\n",
      "+------------+-----+\n",
      "|     3472965|    2|\n",
      "|      498505|    3|\n",
      "|      216978|    6|\n",
      "|      135202|    5|\n",
      "|       29347|    4|\n",
      "|       21224|    7|\n",
      "|       14682|    1|\n",
      "|         396|    0|\n",
      "+------------+-----+\n",
      "\n"
     ]
    }
   ],
   "source": [
    "result6=spark.sql(\"SELECT  count(class) as vehiclecount , class  from vehicle_counter  group by class order by count(class) desc \")\n",
    "result6.show()\n"
   ]
  },
  {
   "cell_type": "code",
   "execution_count": null,
   "metadata": {},
   "outputs": [],
   "source": [
    "result6=spark.sql(\"SELECT  count(class) as vehiclecount , class  from vehicle_counter  group by class order by count(class) desc \")\n",
    "result6.select(\"vehiclecount \", \"class\")\\\n",
    ".write.format(\"org.apache.spark.sql.cassandra\")\\\n",
    ".options(table=\"question6\", keyspace=\"bdmassignment\")\\\n",
    ".save(mode=\"append\")\n"
   ]
  },
  {
   "cell_type": "code",
   "execution_count": 8,
   "metadata": {},
   "outputs": [
    {
     "name": "stdout",
     "output_type": "stream",
     "text": [
      "+-----+----------+\n",
      "|cosit|cositcount|\n",
      "+-----+----------+\n",
      "| 1508|     98292|\n",
      "| 1502|     89498|\n",
      "| 1503|     86195|\n",
      "+-----+----------+\n",
      "\n"
     ]
    }
   ],
   "source": [
    "result7=spark.sql(\"SELECT cosit ,count(cosit) as cositcount from vehicle_counter where cosit in ('1014','20021','1113','1012','1501','1502','1508','1013','1070','1321','1500','1503','1504','1505','1506','1507','1509','1812','15010','15011','15012','20047','201081','201082') group by cosit  order by count(cosit) desc limit 3\")\n",
    "result7.show()\n"
   ]
  },
  {
   "cell_type": "code",
   "execution_count": null,
   "metadata": {},
   "outputs": [],
   "source": [
    "result7=spark.sql(\"SELECT cosit ,count(cosit) as cositcount from vehicle_counter where cosit in ('1014','20021','1113','1012','1501','1502','1508','1013','1070','1321','1500','1503','1504','1505','1506','1507','1509','1812','15010','15011','15012','20047','201081','201082') group by cosit  order by count(cosit) desc limit 3\")\n",
    "result7.select(\"cosit \", \"cositcount\")\\\n",
    ".write.format(\"org.apache.spark.sql.cassandra\")\\\n",
    ".options(table=\"question7\", keyspace=\"bdmassignment\")\\\n",
    ".save(mode=\"append\")\n",
    "\n"
   ]
  },
  {
   "cell_type": "code",
   "execution_count": 9,
   "metadata": {},
   "outputs": [
    {
     "name": "stdout",
     "output_type": "stream",
     "text": [
      "+-----+----------+\n",
      "|cosit|cositcount|\n",
      "+-----+----------+\n",
      "| 3172|      9112|\n",
      "+-----+----------+\n",
      "\n"
     ]
    }
   ],
   "source": [
    "result8=spark.sql(\"SELECT cosit ,count(cosit) as cositcount from vehicle_counter  where cosit in ('3172','3182') group by cosit  order by count(cosit) desc limit 1\")\n",
    "result8.show()\n"
   ]
  },
  {
   "cell_type": "code",
   "execution_count": null,
   "metadata": {},
   "outputs": [],
   "source": [
    "result8=spark.sql(\"SELECT cosit ,count(cosit) as cositcount from vehicle_counter  where cosit in ('3172','3182') group by cosit  order by count(cosit) desc limit 1\")\n",
    "result8.select(\"cositcount\",\"cosit \")\\\n",
    ".write.format(\"org.apache.spark.sql.cassandra\")\\\n",
    ".options(table=\"question8\", keyspace=\"bdmassignment\")\\\n",
    ".save(mode=\"append\")"
   ]
  },
  {
   "cell_type": "code",
   "execution_count": 10,
   "metadata": {},
   "outputs": [
    {
     "name": "stdout",
     "output_type": "stream",
     "text": [
      "+--------+-----+\n",
      "|HGVcount|cosit|\n",
      "+--------+-----+\n",
      "|   12031|  997|\n",
      "+--------+-----+\n",
      "\n"
     ]
    }
   ],
   "source": [
    "result9=spark.sql(\"SELECT  count(cosit) as HGVcount, cosit  from vehicle_counter  where classname in ('HGV_ART','HGV_RIG') group by cosit order by count(cosit) desc limit 1 \") \n",
    "result9.show()\n",
    "result9.select(\"HGVcount\",\"cosit \",\"classname\")\\\n",
    ".write.format(\"org.apache.spark.sql.cassandra\")\\\n",
    ".options(table=\"question9\", keyspace=\"bdmassignment\")\\\n",
    ".save(mode=\"append\")"
   ]
  },
  {
   "cell_type": "code",
   "execution_count": null,
   "metadata": {},
   "outputs": [],
   "source": [
    "result9=spark.sql(\"SELECT  count(cosit) as HGVcount, cosit  from vehicle_counter  where classname in ('HGV_ART','HGV_RIG') group by cosit order by count(cosit) desc limit 1 \") \n",
    "result9.select(\"HGVcount\",\"cosit \",\"classname\")\\\n",
    ".write.format(\"org.apache.spark.sql.cassandra\")\\\n",
    ".options(table=\"question9\", keyspace=\"bdmassignment\")\\\n",
    ".save(mode=\"append\")"
   ]
  },
  {
   "cell_type": "code",
   "execution_count": 2,
   "metadata": {},
   "outputs": [
    {
     "name": "stdout",
     "output_type": "stream",
     "text": [
      "+----------------+------+\n",
      "|numberofvehicles| cosit|\n",
      "+----------------+------+\n",
      "|            5521| 20081|\n",
      "|           17568|200722|\n",
      "+----------------+------+\n",
      "\n"
     ]
    }
   ],
   "source": [
    "result10=spark.sql(\"SELECT  count(cosit) as numberofvehicles , cosit  from vehicle_counter  where cosit in ('20073', '20081', '200722') group by cosit order by count(cosit)\") \n",
    "result10.show()\n"
   ]
  },
  {
   "cell_type": "code",
   "execution_count": null,
   "metadata": {},
   "outputs": [],
   "source": [
    "result10=spark.sql(\"SELECT  count(cosit) as numberofvehicles , cosit  from vehicle_counter  where cosit in ('20073', '20081', '200722') group by cosit order by count(cosit)\") \n",
    "result10.select(\"numberofvehicles\",\"cosit \")\\\n",
    ".write.format(\"org.apache.spark.sql.cassandra\")\\\n",
    ".options(table=\"question10\", keyspace=\"bdmassignment\")\\\n",
    ".save(mode=\"append\")"
   ]
  },
  {
   "cell_type": "code",
   "execution_count": null,
   "metadata": {},
   "outputs": [],
   "source": []
  }
 ],
 "metadata": {
  "kernelspec": {
   "display_name": "Python 3",
   "language": "python",
   "name": "python3"
  },
  "language_info": {
   "codemirror_mode": {
    "name": "ipython",
    "version": 3
   },
   "file_extension": ".py",
   "mimetype": "text/x-python",
   "name": "python",
   "nbconvert_exporter": "python",
   "pygments_lexer": "ipython3",
   "version": "3.5.2"
  }
 },
 "nbformat": 4,
 "nbformat_minor": 2
}
